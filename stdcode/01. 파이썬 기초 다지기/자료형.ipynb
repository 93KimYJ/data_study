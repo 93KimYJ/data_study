{
 "cells": [
  {
   "cell_type": "markdown",
   "id": "059c7eb5-c01d-4ad4-9054-e37adf03a5de",
   "metadata": {},
   "source": [
    "## 변수:\n",
    "### 1.이름을 잘 만들어야 한다 (작명센스)\n",
    "### 2. 숫자가 맨앞에 올 수 없다\n",
    "### 3. 단어와 단어 사이는 _ 또는 대문자로 구별한다"
   ]
  },
  {
   "cell_type": "markdown",
   "id": "0c313626-6997-4fa0-a09d-d99faa944413",
   "metadata": {},
   "source": [
    "## 1-1. 자료형"
   ]
  },
  {
   "cell_type": "code",
   "execution_count": 8,
   "id": "f4e43ddc-af7f-4b26-84e7-ee8644a2c10c",
   "metadata": {},
   "outputs": [
    {
     "data": {
      "text/plain": [
       "77"
      ]
     },
     "execution_count": 8,
     "metadata": {},
     "output_type": "execute_result"
    }
   ],
   "source": [
    "a = 33\n",
    "b = 44\n",
    "a+b"
   ]
  },
  {
   "cell_type": "code",
   "execution_count": 9,
   "id": "318233cd-f834-43d3-a79e-74e696daa378",
   "metadata": {},
   "outputs": [
    {
     "data": {
      "text/plain": [
       "'3344'"
      ]
     },
     "execution_count": 9,
     "metadata": {},
     "output_type": "execute_result"
    }
   ],
   "source": [
    "a = \"33\"\n",
    "b = \"44\"\n",
    "a+b"
   ]
  },
  {
   "cell_type": "code",
   "execution_count": null,
   "id": "2ea58a0c-fe90-4926-a651-58a3b967e1ff",
   "metadata": {},
   "outputs": [],
   "source": []
  },
  {
   "cell_type": "code",
   "execution_count": 12,
   "id": "4e160dc1-829e-4cce-bdf2-f10b7591e13e",
   "metadata": {},
   "outputs": [
    {
     "name": "stdout",
     "output_type": "stream",
     "text": [
      "<class 'int'>\n",
      "<class 'float'>\n"
     ]
    }
   ],
   "source": [
    "integer_value = 10\n",
    "float_value = 20.5\n",
    "print(type(integer_value))\n",
    "print(type(float_value))"
   ]
  },
  {
   "cell_type": "code",
   "execution_count": 14,
   "id": "c7197b47-bf8f-45bc-a063-5f4f9ea40d18",
   "metadata": {},
   "outputs": [
    {
     "data": {
      "text/plain": [
       "float"
      ]
     },
     "execution_count": 14,
     "metadata": {},
     "output_type": "execute_result"
    }
   ],
   "source": [
    "answer = integer_value * float_value\n",
    "type(answer)"
   ]
  },
  {
   "cell_type": "code",
   "execution_count": 16,
   "id": "5423ce92-8116-439c-a0c3-1b49d5ddb6dc",
   "metadata": {},
   "outputs": [
    {
     "name": "stdout",
     "output_type": "stream",
     "text": [
      "30.5\n",
      "-10.5\n",
      "205.0\n",
      "0.4878048780487805\n"
     ]
    }
   ],
   "source": [
    "plusAns = integer_value + float_value\n",
    "minusAns = integer_value - float_value\n",
    "multiAns = integer_value * float_value\n",
    "dicAns = integer_value / float_value\n",
    "print(plusAns)\n",
    "print(minusAns)\n",
    "print(multiAns)\n",
    "print(dicAns)"
   ]
  },
  {
   "cell_type": "code",
   "execution_count": 27,
   "id": "597e3609-2589-437b-b870-1c60850574e7",
   "metadata": {},
   "outputs": [
    {
     "name": "stdout",
     "output_type": "stream",
     "text": [
      "49\n"
     ]
    }
   ],
   "source": [
    "currentHour = 13\n",
    "currentMin = 36\n",
    "answer = currentHour + currentMin\n",
    "print(answer)"
   ]
  },
  {
   "cell_type": "code",
   "execution_count": 32,
   "id": "f612eca7-769f-4406-bc6e-2110c85fe84b",
   "metadata": {},
   "outputs": [],
   "source": [
    "import datetime"
   ]
  },
  {
   "cell_type": "code",
   "execution_count": 39,
   "id": "97acd466-21d4-4333-b40c-786eb77cf248",
   "metadata": {},
   "outputs": [],
   "source": [
    "currentTime = datetime.datetime.now()"
   ]
  },
  {
   "cell_type": "code",
   "execution_count": 40,
   "id": "b9ee8770-df5f-4838-b816-94258416e4c9",
   "metadata": {},
   "outputs": [],
   "source": [
    "currentHour = currentTime.hour\n",
    "currentMin = currentTime.minute"
   ]
  },
  {
   "cell_type": "code",
   "execution_count": 41,
   "id": "4612bc87-742f-464a-88c9-bf9a20b74ac0",
   "metadata": {},
   "outputs": [
    {
     "data": {
      "text/plain": [
       "62"
      ]
     },
     "execution_count": 41,
     "metadata": {},
     "output_type": "execute_result"
    }
   ],
   "source": [
    "currentHour + currentMin"
   ]
  },
  {
   "cell_type": "markdown",
   "id": "c70e88ce-61e8-4171-bcb6-7281ccc6f5a4",
   "metadata": {},
   "source": [
    "## 1-1-2. 문자열"
   ]
  },
  {
   "cell_type": "markdown",
   "id": "7df19da5-cefe-4c6d-b10d-6b4b8f0e2b14",
   "metadata": {},
   "source": [
    "#### 내가 무슨 문자가 들어오든 내가 원하는 값을 추출할 수 있음\n",
    "#### 내가 원하는 문자를 붙일 수 있음"
   ]
  },
  {
   "cell_type": "code",
   "execution_count": 59,
   "id": "b6f20b1d-508f-43e3-b986-8665f399147c",
   "metadata": {},
   "outputs": [],
   "source": [
    "currentYear = \"2023\""
   ]
  },
  {
   "cell_type": "code",
   "execution_count": 60,
   "id": "d7db761b-61fc-489e-a052-b32d2fc67b11",
   "metadata": {},
   "outputs": [],
   "source": [
    "currentWeek = \"1\""
   ]
  },
  {
   "cell_type": "code",
   "execution_count": 61,
   "id": "723adf4d-f7a0-4b62-885b-df66d1f16530",
   "metadata": {},
   "outputs": [
    {
     "data": {
      "text/plain": [
       "'20231'"
      ]
     },
     "execution_count": 61,
     "metadata": {},
     "output_type": "execute_result"
    }
   ],
   "source": [
    "currentYear + currentWeek"
   ]
  },
  {
   "cell_type": "code",
   "execution_count": 44,
   "id": "e71926d5-1933-4270-80a8-a312ae005d68",
   "metadata": {
    "tags": []
   },
   "outputs": [],
   "source": [
    "testString = 33\n",
    "testString2 = \"33\""
   ]
  },
  {
   "cell_type": "code",
   "execution_count": 45,
   "id": "5880af6e-b28a-4670-ac07-4d9ce4bef1b4",
   "metadata": {},
   "outputs": [
    {
     "data": {
      "text/plain": [
       "83"
      ]
     },
     "execution_count": 45,
     "metadata": {},
     "output_type": "execute_result"
    }
   ],
   "source": [
    "testString + 50"
   ]
  },
  {
   "cell_type": "code",
   "execution_count": 51,
   "id": "9b49c64e-97db-4e69-aa03-bf1318dd2e21",
   "metadata": {},
   "outputs": [],
   "source": [
    "targetInfo = \"202301\""
   ]
  },
  {
   "cell_type": "code",
   "execution_count": 57,
   "id": "c387b64a-58b1-4922-a951-5a9a98fcace6",
   "metadata": {},
   "outputs": [],
   "source": [
    "yearLenStd = 4"
   ]
  },
  {
   "cell_type": "code",
   "execution_count": 58,
   "id": "bbe10ce7-e4c0-4726-9684-49ebebb9860a",
   "metadata": {},
   "outputs": [
    {
     "data": {
      "text/plain": [
       "'2023'"
      ]
     },
     "execution_count": 58,
     "metadata": {},
     "output_type": "execute_result"
    }
   ],
   "source": [
    "extractedYear = targetInfo[0:yearLenStd]\n",
    "extractedYear"
   ]
  },
  {
   "cell_type": "code",
   "execution_count": 62,
   "id": "c8791ead-a6c4-4de6-bca3-c5187d8210ed",
   "metadata": {},
   "outputs": [],
   "source": [
    "### 문자열 세기\n",
    "modelName = \"LEDTV_001\""
   ]
  },
  {
   "cell_type": "code",
   "execution_count": 63,
   "id": "0d91684d-0196-4abe-8e15-fc386a963079",
   "metadata": {},
   "outputs": [],
   "source": [
    "prefix = \"LEDTV\""
   ]
  },
  {
   "cell_type": "code",
   "execution_count": 64,
   "id": "6bbeb836-13d8-48e1-a4c8-cc697df44384",
   "metadata": {},
   "outputs": [
    {
     "data": {
      "text/plain": [
       "1"
      ]
     },
     "execution_count": 64,
     "metadata": {},
     "output_type": "execute_result"
    }
   ],
   "source": [
    "modelName.count(prefix)"
   ]
  },
  {
   "cell_type": "code",
   "execution_count": 65,
   "id": "b87420fd-0ab8-4ae6-94d1-33b23b4d7f47",
   "metadata": {},
   "outputs": [],
   "source": [
    "yearweek = \"2023w01\""
   ]
  },
  {
   "cell_type": "code",
   "execution_count": 66,
   "id": "bd81a0da-eda9-4493-aef1-3e298be9d167",
   "metadata": {},
   "outputs": [],
   "source": [
    "delimeter = \"w\""
   ]
  },
  {
   "cell_type": "code",
   "execution_count": 70,
   "id": "92b5f897-85ff-4800-90d5-b387ec8bae7a",
   "metadata": {},
   "outputs": [],
   "source": [
    "delimeterIndex = yearweek.index(delimeter)   # index : 위치 찾기"
   ]
  },
  {
   "cell_type": "code",
   "execution_count": 71,
   "id": "afbe6061-02b6-450c-9f70-e6cb88e6f99f",
   "metadata": {},
   "outputs": [
    {
     "data": {
      "text/plain": [
       "'2023'"
      ]
     },
     "execution_count": 71,
     "metadata": {},
     "output_type": "execute_result"
    }
   ],
   "source": [
    "yearInfo = yearweek[:delimeterIndex]\n",
    "yearInfo"
   ]
  },
  {
   "cell_type": "code",
   "execution_count": 72,
   "id": "4e892071-0bb4-4f74-8cb6-99ee972af2f7",
   "metadata": {},
   "outputs": [],
   "source": [
    "targetId = \"haiteam\""
   ]
  },
  {
   "cell_type": "code",
   "execution_count": 75,
   "id": "8a682e10-bfda-4ebf-a411-a8d3171929c6",
   "metadata": {},
   "outputs": [
    {
     "data": {
      "text/plain": [
       "'haiteam'"
      ]
     },
     "execution_count": 75,
     "metadata": {},
     "output_type": "execute_result"
    }
   ],
   "source": [
    "targetId.lower()"
   ]
  },
  {
   "cell_type": "code",
   "execution_count": 76,
   "id": "9209eabb-631e-47ec-b0a0-05db7583a449",
   "metadata": {},
   "outputs": [],
   "source": [
    "userInputId = \"haiteam\""
   ]
  },
  {
   "cell_type": "code",
   "execution_count": 77,
   "id": "db07cabc-a5eb-48e6-8dc6-585ea949853d",
   "metadata": {},
   "outputs": [],
   "source": [
    "comSavedId = \"HAITEAM\""
   ]
  },
  {
   "cell_type": "code",
   "execution_count": 80,
   "id": "303a2b73-b07f-43c0-83aa-8cd041a34e29",
   "metadata": {},
   "outputs": [
    {
     "data": {
      "text/plain": [
       "True"
      ]
     },
     "execution_count": 80,
     "metadata": {},
     "output_type": "execute_result"
    }
   ],
   "source": [
    "userInputId.upper() == comSavedId.upper()"
   ]
  },
  {
   "cell_type": "code",
   "execution_count": 81,
   "id": "df3f91a2-4c2e-48f2-9b52-24c343fad894",
   "metadata": {},
   "outputs": [],
   "source": [
    "inputYearWeek = \"2017W11\""
   ]
  },
  {
   "cell_type": "code",
   "execution_count": 84,
   "id": "5932035b-b963-41e3-83d6-f707ba6181e6",
   "metadata": {},
   "outputs": [],
   "source": [
    "orgDelimeter = \"W\"\n",
    "newDelimeter = \"_\""
   ]
  },
  {
   "cell_type": "code",
   "execution_count": 85,
   "id": "806084f9-f4e7-468b-88a7-a74b64623ebc",
   "metadata": {},
   "outputs": [
    {
     "data": {
      "text/plain": [
       "'2017_11'"
      ]
     },
     "execution_count": 85,
     "metadata": {},
     "output_type": "execute_result"
    }
   ],
   "source": [
    "inputYearWeek.replace(orgDelimeter , newDelimeter)"
   ]
  },
  {
   "cell_type": "code",
   "execution_count": 86,
   "id": "fbdaadd2-eb75-4211-bda1-c5e569ee49e8",
   "metadata": {},
   "outputs": [],
   "source": [
    "# 변수처리 습관화."
   ]
  },
  {
   "cell_type": "code",
   "execution_count": 87,
   "id": "c91e8504-4f1e-4316-8bdc-11650f3c34e3",
   "metadata": {},
   "outputs": [
    {
     "data": {
      "text/plain": [
       "['2017', '11']"
      ]
     },
     "execution_count": 87,
     "metadata": {},
     "output_type": "execute_result"
    }
   ],
   "source": [
    "inputYearWeek.split(orgDelimeter)"
   ]
  },
  {
   "cell_type": "markdown",
   "id": "892481a5-f689-4b82-ae65-fbe6fb0af2c6",
   "metadata": {},
   "source": [
    "## 형변환"
   ]
  },
  {
   "cell_type": "code",
   "execution_count": 88,
   "id": "c68b67df-38cb-4b81-b238-a5743208bf5d",
   "metadata": {},
   "outputs": [],
   "source": [
    "strData = \"201301\""
   ]
  },
  {
   "cell_type": "code",
   "execution_count": 90,
   "id": "2f868d42-00c5-40a0-9b0c-233df87da080",
   "metadata": {},
   "outputs": [
    {
     "data": {
      "text/plain": [
       "str"
      ]
     },
     "execution_count": 90,
     "metadata": {},
     "output_type": "execute_result"
    }
   ],
   "source": [
    "type(strData)"
   ]
  },
  {
   "cell_type": "code",
   "execution_count": 89,
   "id": "f77c9d2d-ec37-4ee8-86c9-418ee27cbecf",
   "metadata": {},
   "outputs": [],
   "source": [
    "intData = int(strData)"
   ]
  },
  {
   "cell_type": "code",
   "execution_count": 91,
   "id": "e639313f-d43b-46d0-a8dd-284afbfa6cc5",
   "metadata": {},
   "outputs": [
    {
     "data": {
      "text/plain": [
       "int"
      ]
     },
     "execution_count": 91,
     "metadata": {},
     "output_type": "execute_result"
    }
   ],
   "source": [
    "type(intData)"
   ]
  },
  {
   "cell_type": "code",
   "execution_count": 96,
   "id": "61af758c-de01-4320-9660-e46fc86c1b5c",
   "metadata": {},
   "outputs": [
    {
     "data": {
      "text/plain": [
       "201301.0"
      ]
     },
     "execution_count": 96,
     "metadata": {},
     "output_type": "execute_result"
    }
   ],
   "source": [
    "intData = float(strData)\n",
    "intData"
   ]
  },
  {
   "cell_type": "code",
   "execution_count": 97,
   "id": "a6d936b4-020a-4cc7-894f-3118b4797542",
   "metadata": {},
   "outputs": [],
   "source": [
    "yearInfo = int(intData/100)\n",
    "weekInfo = intData%100"
   ]
  },
  {
   "cell_type": "code",
   "execution_count": 98,
   "id": "fecb9be9-d12e-4e54-b437-1082b1aceb54",
   "metadata": {},
   "outputs": [
    {
     "data": {
      "text/plain": [
       "2013"
      ]
     },
     "execution_count": 98,
     "metadata": {},
     "output_type": "execute_result"
    }
   ],
   "source": [
    "yearInfo"
   ]
  },
  {
   "cell_type": "code",
   "execution_count": 99,
   "id": "35beee02-4856-4d3e-af60-73adbd246fb1",
   "metadata": {},
   "outputs": [
    {
     "data": {
      "text/plain": [
       "1.0"
      ]
     },
     "execution_count": 99,
     "metadata": {},
     "output_type": "execute_result"
    }
   ],
   "source": [
    "weekInfo"
   ]
  },
  {
   "cell_type": "code",
   "execution_count": 100,
   "id": "f89008e2-7f5e-4d69-86ad-8bfd6ab224f5",
   "metadata": {},
   "outputs": [],
   "source": [
    "eData = \"Sec 2018W28 250\""
   ]
  },
  {
   "cell_type": "code",
   "execution_count": 102,
   "id": "5f40710f-b72a-426e-a910-6f2a06c6419f",
   "metadata": {},
   "outputs": [
    {
     "data": {
      "text/plain": [
       "'SEC'"
      ]
     },
     "execution_count": 102,
     "metadata": {},
     "output_type": "execute_result"
    }
   ],
   "source": [
    "stock_name = eData.upper()[:3]\n",
    "stock_name"
   ]
  },
  {
   "cell_type": "code",
   "execution_count": 112,
   "id": "d2895fad-c681-4970-8f16-adf452d93ba2",
   "metadata": {},
   "outputs": [
    {
     "data": {
      "text/plain": [
       "['2018', '28']"
      ]
     },
     "execution_count": 112,
     "metadata": {},
     "output_type": "execute_result"
    }
   ],
   "source": [
    "data = eData[4:11].split(\"W\")\n",
    "data"
   ]
  },
  {
   "cell_type": "code",
   "execution_count": 115,
   "id": "8542ae34-61c4-4bbd-8b50-1364d0813c63",
   "metadata": {},
   "outputs": [
    {
     "data": {
      "text/plain": [
       "int"
      ]
     },
     "execution_count": 115,
     "metadata": {},
     "output_type": "execute_result"
    }
   ],
   "source": [
    "value = int(eData[12:])\n",
    "type(value)"
   ]
  },
  {
   "cell_type": "code",
   "execution_count": 116,
   "id": "75bbae78-4107-4592-95af-5f54e646f6c4",
   "metadata": {},
   "outputs": [
    {
     "name": "stdout",
     "output_type": "stream",
     "text": [
      "SEC\n",
      "['2018', '28']\n",
      "250\n"
     ]
    }
   ],
   "source": [
    "sData = \"Sec 2018W28 250\"\n",
    "\n",
    "stock_name = sData.upper()[:3]\n",
    "print(stock_name)\n",
    "data = sData[4:11].split(\"W\")\n",
    "print(data)\n",
    "value = int(sData[12:])\n",
    "print(value)"
   ]
  },
  {
   "cell_type": "markdown",
   "id": "b6f992d5-94d5-4271-a73f-b345521c16bb",
   "metadata": {},
   "source": [
    "### 1-1-3. 리스트"
   ]
  },
  {
   "cell_type": "code",
   "execution_count": 118,
   "id": "fe50284d-aee4-4026-bace-636be9c2208d",
   "metadata": {},
   "outputs": [],
   "source": [
    "emptyList = []"
   ]
  },
  {
   "cell_type": "code",
   "execution_count": 126,
   "id": "fd00ee4c-4e61-40cd-96b6-d3bf80fd30de",
   "metadata": {},
   "outputs": [],
   "source": [
    "priceList = [110,220,330,440,550]"
   ]
  },
  {
   "cell_type": "code",
   "execution_count": 134,
   "id": "d8bfa14c-12bc-4252-af5d-24d240cde41f",
   "metadata": {},
   "outputs": [
    {
     "data": {
      "text/plain": [
       "[110, 220, 330, 440, 550]"
      ]
     },
     "execution_count": 134,
     "metadata": {},
     "output_type": "execute_result"
    }
   ],
   "source": [
    "priceList[:4]"
   ]
  },
  {
   "cell_type": "code",
   "execution_count": 142,
   "id": "a6db56fa-66bd-4184-b994-0401f66846b0",
   "metadata": {},
   "outputs": [],
   "source": [
    "priceList[0] = 999"
   ]
  },
  {
   "cell_type": "code",
   "execution_count": 143,
   "id": "d1dd6a68-7659-4966-a464-b2e8bea07ec1",
   "metadata": {},
   "outputs": [],
   "source": [
    "priceList.remove(999)    # remove : 삭제"
   ]
  },
  {
   "cell_type": "code",
   "execution_count": 146,
   "id": "0fb55d9b-a2bd-47ee-9c33-411931b44f00",
   "metadata": {},
   "outputs": [],
   "source": [
    "newPrice = 9999"
   ]
  },
  {
   "cell_type": "code",
   "execution_count": 147,
   "id": "804647aa-fbdc-4a68-bdf6-098e19cea825",
   "metadata": {},
   "outputs": [],
   "source": [
    "priceList.append(newPrice)"
   ]
  },
  {
   "cell_type": "code",
   "execution_count": 154,
   "id": "abe5a7f9-1b1c-4f4c-8385-7c82436acb48",
   "metadata": {},
   "outputs": [
    {
     "data": {
      "text/plain": [
       "4"
      ]
     },
     "execution_count": 154,
     "metadata": {},
     "output_type": "execute_result"
    }
   ],
   "source": [
    "# 리스트 길이 구하기 len\n",
    "# 리스트 최소값 min\n",
    "# 리스트 최대값 max\n",
    "# 리스트 더하기 sum\n",
    "len(priceList)"
   ]
  },
  {
   "cell_type": "code",
   "execution_count": 155,
   "id": "7c411301-67c7-4822-bcc4-47fc7408375d",
   "metadata": {},
   "outputs": [
    {
     "data": {
      "text/plain": [
       "1"
      ]
     },
     "execution_count": 155,
     "metadata": {},
     "output_type": "execute_result"
    }
   ],
   "source": [
    "priceList.count(9999)"
   ]
  },
  {
   "cell_type": "code",
   "execution_count": 193,
   "id": "b1ddb8cb-4cea-4d76-b053-d4ade5e0aacd",
   "metadata": {},
   "outputs": [
    {
     "name": "stdout",
     "output_type": "stream",
     "text": [
      "414\n"
     ]
    }
   ],
   "source": [
    "List = [120,150,300,500,1000,100,2000]\n",
    "List.remove(min(List))\n",
    "List.remove(max(List))\n",
    "average = sum(List) / len(List)\n",
    "print(int(average))"
   ]
  },
  {
   "cell_type": "code",
   "execution_count": 195,
   "id": "791e7f8b-c706-46ee-97f6-c05a6f8fdd4d",
   "metadata": {},
   "outputs": [],
   "source": [
    "targetList = [120,150,300,500,1000,100,2000]"
   ]
  },
  {
   "cell_type": "code",
   "execution_count": 196,
   "id": "e0a13095-8e0b-4b96-bdce-ec837dd10dab",
   "metadata": {},
   "outputs": [
    {
     "name": "stdout",
     "output_type": "stream",
     "text": [
      "100 2000\n",
      "414.0\n"
     ]
    }
   ],
   "source": [
    "# step1 : 최소값 최대값을 구한다\n",
    "minValue = min(targetList)\n",
    "maxValue = max(targetList)\n",
    "print(minValue , maxValue)\n",
    "# step2 : 리스트에서 최소값 최대값을 제거한다.\n",
    "targetList.remove(minValue)\n",
    "targetList.remove(maxValue)\n",
    "targetList\n",
    "# step3 : 최종 리스트에서 평균을 구한다\n",
    "# 평균 : 전체합/전체길이\n",
    "listsum = sum(targetList)\n",
    "listlen = len(targetList)\n",
    "answer = listsum/listlen\n",
    "print(answer)"
   ]
  },
  {
   "cell_type": "code",
   "execution_count": 1,
   "id": "0356e45f-8699-47d8-b219-e5ecab36fd66",
   "metadata": {},
   "outputs": [],
   "source": [
    "tv_list = [\"UN42001\", \"UN42002\", \"UN42003\"]"
   ]
  },
  {
   "cell_type": "code",
   "execution_count": 2,
   "id": "e5ac05e0-c5b3-430b-8297-2e5bb5024757",
   "metadata": {},
   "outputs": [],
   "source": [
    "pre_fix = \"LEDTV_\""
   ]
  },
  {
   "cell_type": "code",
   "execution_count": 3,
   "id": "5ccccfc9-a5e4-4e09-8c31-e59314699628",
   "metadata": {},
   "outputs": [],
   "source": [
    "tv_list_len = len(tv_list)"
   ]
  },
  {
   "cell_type": "code",
   "execution_count": 4,
   "id": "d7373eca-7d07-4784-9c68-851acebaa046",
   "metadata": {},
   "outputs": [],
   "source": [
    "# i를 0에서 2까지 반복\n",
    "for i in range(0 , tv_list_len):\n",
    "    tv_list[i] = pre_fix + tv_list[i]"
   ]
  },
  {
   "cell_type": "code",
   "execution_count": 5,
   "id": "7f03f072-0ed1-4f74-98d3-d12fcb2f13e2",
   "metadata": {},
   "outputs": [
    {
     "data": {
      "text/plain": [
       "['LEDTV_UN42001', 'LEDTV_UN42002', 'LEDTV_UN42003']"
      ]
     },
     "execution_count": 5,
     "metadata": {},
     "output_type": "execute_result"
    }
   ],
   "source": [
    "tv_list"
   ]
  },
  {
   "cell_type": "code",
   "execution_count": 6,
   "id": "cb4c8c2b-88ed-4a70-9880-6c849c735b9c",
   "metadata": {},
   "outputs": [],
   "source": [
    "i = 0"
   ]
  },
  {
   "cell_type": "code",
   "execution_count": 7,
   "id": "30e8fb32-8c93-4d75-a87a-7ea8b6fb4840",
   "metadata": {},
   "outputs": [],
   "source": [
    "while(i < len(tv_list)):\n",
    "    tv_list[i] = pre_fix + tv_list[i]\n",
    "    i = i + 1"
   ]
  },
  {
   "cell_type": "code",
   "execution_count": 8,
   "id": "88a3da42-8b4d-41ea-98f7-7c87197ce21a",
   "metadata": {},
   "outputs": [
    {
     "data": {
      "text/plain": [
       "['LEDTV_LEDTV_UN42001', 'LEDTV_LEDTV_UN42002', 'LEDTV_LEDTV_UN42003']"
      ]
     },
     "execution_count": 8,
     "metadata": {},
     "output_type": "execute_result"
    }
   ],
   "source": [
    "tv_list"
   ]
  },
  {
   "cell_type": "code",
   "execution_count": 14,
   "id": "e60e8b07-1fa2-43ce-be54-2e7c0a2d1dfd",
   "metadata": {},
   "outputs": [],
   "source": [
    "import pandas as pd\n",
    "\n",
    "dataUrl = \"https://raw.githubusercontent.com/hyokwan/python-lecture/master/dataset/customerdata.csv\"\n",
    "\n",
    "csData = pd.read_csv(dataUrl)\n",
    "\n",
    "customerNumber = list(csData.CUSTID)\n",
    "\n",
    "pulsData = \"SEC_\"\n",
    "for i in range(0 , len(customerNumber)):\n",
    "    customerNumber[i] = pulsData + customerNumber[i]\n",
    "\n",
    "### 문제 customerNumber 앞에 접두어 SEC_를 붙인다"
   ]
  },
  {
   "cell_type": "code",
   "execution_count": 15,
   "id": "067b4830-1f69-4e04-9c60-92f3e1a55998",
   "metadata": {},
   "outputs": [
    {
     "data": {
      "text/plain": [
       "['SEC_A13566',\n",
       " 'SEC_A14219',\n",
       " 'SEC_A15312',\n",
       " 'SEC_A16605',\n",
       " 'SEC_B10634',\n",
       " 'SEC_B16849',\n",
       " 'SEC_B18816',\n",
       " 'SEC_C10639',\n",
       " 'SEC_C12717',\n",
       " 'SEC_C15050',\n",
       " 'SEC_C18306',\n",
       " 'SEC_C18622',\n",
       " 'SEC_C19178',\n",
       " 'SEC_D11795',\n",
       " 'SEC_D13030',\n",
       " 'SEC_D15289',\n",
       " 'SEC_D17241',\n",
       " 'SEC_D17880',\n",
       " 'SEC_E10778',\n",
       " 'SEC_E11917',\n",
       " 'SEC_E16075',\n",
       " 'SEC_E16221',\n",
       " 'SEC_E18145',\n",
       " 'SEC_E19404',\n",
       " 'SEC_F10222',\n",
       " 'SEC_F12979',\n",
       " 'SEC_F14866',\n",
       " 'SEC_F17131',\n",
       " 'SEC_F18646',\n",
       " 'SEC_F19938',\n",
       " 'SEC_G11453',\n",
       " 'SEC_G15439',\n",
       " 'SEC_G15736',\n",
       " 'SEC_G16437',\n",
       " 'SEC_G16681',\n",
       " 'SEC_G16922',\n",
       " 'SEC_G18402',\n",
       " 'SEC_G19717',\n",
       " 'SEC_H10188',\n",
       " 'SEC_H15023',\n",
       " 'SEC_H16326',\n",
       " 'SEC_H16434',\n",
       " 'SEC_H18821',\n",
       " 'SEC_H19829',\n",
       " 'SEC_I11601',\n",
       " 'SEC_I12899',\n",
       " 'SEC_I14835',\n",
       " 'SEC_I17056',\n",
       " 'SEC_I17780',\n",
       " 'SEC_I18190',\n",
       " 'SEC_I19586',\n",
       " 'SEC_J10809',\n",
       " 'SEC_J15083',\n",
       " 'SEC_J16445',\n",
       " 'SEC_J18368',\n",
       " 'SEC_J18640',\n",
       " 'SEC_K10712',\n",
       " 'SEC_K13300',\n",
       " 'SEC_K16632',\n",
       " 'SEC_L10919',\n",
       " 'SEC_L13892',\n",
       " 'SEC_L16344',\n",
       " 'SEC_L17101',\n",
       " 'SEC_L18000',\n",
       " 'SEC_M10156',\n",
       " 'SEC_M16452',\n",
       " 'SEC_M17538',\n",
       " 'SEC_N13273',\n",
       " 'SEC_N14862',\n",
       " 'SEC_N15762',\n",
       " 'SEC_O10236',\n",
       " 'SEC_O12193',\n",
       " 'SEC_O13037',\n",
       " 'SEC_O13586',\n",
       " 'SEC_O16407',\n",
       " 'SEC_O19630',\n",
       " 'SEC_P14445',\n",
       " 'SEC_P14740',\n",
       " 'SEC_P18446',\n",
       " 'SEC_P18769',\n",
       " 'SEC_P19679',\n",
       " 'SEC_Q11876',\n",
       " 'SEC_Q12581',\n",
       " 'SEC_Q13484',\n",
       " 'SEC_Q14673',\n",
       " 'SEC_Q15445',\n",
       " 'SEC_Q16449',\n",
       " 'SEC_Q16970',\n",
       " 'SEC_Q18064',\n",
       " 'SEC_Q18901',\n",
       " 'SEC_Q19870',\n",
       " 'SEC_R10086',\n",
       " 'SEC_R11271',\n",
       " 'SEC_R12480',\n",
       " 'SEC_R15454',\n",
       " 'SEC_R16364',\n",
       " 'SEC_R18220',\n",
       " 'SEC_S10909',\n",
       " 'SEC_S12066',\n",
       " 'SEC_S12785',\n",
       " 'SEC_S13238',\n",
       " 'SEC_S14751',\n",
       " 'SEC_S14878',\n",
       " 'SEC_S15191',\n",
       " 'SEC_S15607',\n",
       " 'SEC_S15966',\n",
       " 'SEC_S16151',\n",
       " 'SEC_S17396',\n",
       " 'SEC_S17893',\n",
       " 'SEC_S18699',\n",
       " 'SEC_S18924',\n",
       " 'SEC_T10762',\n",
       " 'SEC_T11116',\n",
       " 'SEC_T11473',\n",
       " 'SEC_T11512',\n",
       " 'SEC_T12735',\n",
       " 'SEC_T13866',\n",
       " 'SEC_T16556',\n",
       " 'SEC_U15861',\n",
       " 'SEC_U16637',\n",
       " 'SEC_U16894',\n",
       " 'SEC_U17547',\n",
       " 'SEC_U17748',\n",
       " 'SEC_V10654',\n",
       " 'SEC_V16516',\n",
       " 'SEC_V16704',\n",
       " 'SEC_V18566',\n",
       " 'SEC_V19072',\n",
       " 'SEC_W10832',\n",
       " 'SEC_W13032',\n",
       " 'SEC_W13404',\n",
       " 'SEC_W13995',\n",
       " 'SEC_W16193',\n",
       " 'SEC_W18228',\n",
       " 'SEC_X10158',\n",
       " 'SEC_X13390',\n",
       " 'SEC_X14259',\n",
       " 'SEC_X19598',\n",
       " 'SEC_X19768',\n",
       " 'SEC_Y10906',\n",
       " 'SEC_Y12458',\n",
       " 'SEC_Y13678',\n",
       " 'SEC_Z11525',\n",
       " 'SEC_Z12343',\n",
       " 'SEC_Z12772',\n",
       " 'SEC_Z13253',\n",
       " 'SEC_Z13534',\n",
       " 'SEC_Z16428',\n",
       " 'SEC_Z16735',\n",
       " 'SEC_Z19835']"
      ]
     },
     "execution_count": 15,
     "metadata": {},
     "output_type": "execute_result"
    }
   ],
   "source": [
    "customerNumber"
   ]
  },
  {
   "cell_type": "code",
   "execution_count": null,
   "id": "30be2efb-13a6-4eb3-a287-8ed67dc17909",
   "metadata": {},
   "outputs": [],
   "source": [
    "   "
   ]
  }
 ],
 "metadata": {
  "kernelspec": {
   "display_name": "Python 3 (ipykernel)",
   "language": "python",
   "name": "python3"
  },
  "language_info": {
   "codemirror_mode": {
    "name": "ipython",
    "version": 3
   },
   "file_extension": ".py",
   "mimetype": "text/x-python",
   "name": "python",
   "nbconvert_exporter": "python",
   "pygments_lexer": "ipython3",
   "version": "3.9.7"
  }
 },
 "nbformat": 4,
 "nbformat_minor": 5
}
