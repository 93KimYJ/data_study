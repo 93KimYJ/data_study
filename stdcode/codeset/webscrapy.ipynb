{
 "cells": [
  {
   "cell_type": "code",
   "execution_count": 44,
   "id": "3ee1661d-2bbe-4f47-92b4-b8ec7c4ffbb7",
   "metadata": {},
   "outputs": [],
   "source": [
    "# requests: 내가 웹에 데이터를 요청하는 라이브러리!\n",
    "# bs4: 웹페이지의 데이터를 이쁘게 추출하는 라이브러리!\n",
    "import requests, bs4\n",
    "import datetime\n",
    "import pandas as pd"
   ]
  },
  {
   "cell_type": "code",
   "execution_count": 45,
   "id": "1c82b508-c5bf-4629-89db-f149d02fa155",
   "metadata": {},
   "outputs": [],
   "source": [
    "targetUrl = \"https://sparkkorea.com/%ed%80%b4%ec%a6%88/\""
   ]
  },
  {
   "cell_type": "code",
   "execution_count": 46,
   "id": "22500203-6e22-410e-a620-c8277567c3c8",
   "metadata": {},
   "outputs": [],
   "source": [
    "resp = requests.get(targetUrl)"
   ]
  },
  {
   "cell_type": "code",
   "execution_count": 47,
   "id": "ae29a68f-f21d-4dbe-a954-d752f8d4b5c7",
   "metadata": {},
   "outputs": [],
   "source": [
    "html = resp.text"
   ]
  },
  {
   "cell_type": "code",
   "execution_count": 48,
   "id": "5e62c996-468f-4214-a305-c55cf1d3cd5f",
   "metadata": {
    "tags": []
   },
   "outputs": [],
   "source": [
    "bsobj = bs4.BeautifulSoup(html,\"html.parser\")"
   ]
  },
  {
   "cell_type": "code",
   "execution_count": 49,
   "id": "9975b4fe-1a55-46b9-bc42-71debe39d680",
   "metadata": {},
   "outputs": [],
   "source": [
    "divScope =     bsobj.find(name=\"div\", attrs={\"class\":\"class_spark_quiz\"})"
   ]
  },
  {
   "cell_type": "code",
   "execution_count": 50,
   "id": "ca1e94e2-6518-4465-9600-0966102e006a",
   "metadata": {},
   "outputs": [],
   "source": [
    "atags = divScope.findAll(name=\"a\")"
   ]
  },
  {
   "cell_type": "code",
   "execution_count": 51,
   "id": "9bc9c299-d793-44e9-a477-feb98def0416",
   "metadata": {},
   "outputs": [],
   "source": [
    "titleList = []\n",
    "linkList = []"
   ]
  },
  {
   "cell_type": "code",
   "execution_count": 52,
   "id": "1397b874-f97c-4719-a732-ed8b1b74ada2",
   "metadata": {},
   "outputs": [],
   "source": [
    "for i in range(0, len(atags)):\n",
    "\n",
    "    quizTitle = atags[i].text # 퀴즈 타이틀 정보 수집\n",
    "    quizLink = atags[i].attrs[\"href\"] # 퀴즈 링크 정보 수집\n",
    "    titleList.append(quizTitle) # 빈리스트에 하나씩 저장\n",
    "    linkList.append(quizLink) # 빈리스트에 하나씩 저장"
   ]
  },
  {
   "cell_type": "code",
   "execution_count": 53,
   "id": "b61d8c67-bbdc-40d4-a5ce-b4bb04aa647e",
   "metadata": {},
   "outputs": [],
   "source": [
    "quizInfoDf = pd.DataFrame( zip(titleList, linkList) , columns=[\"제목\",\"링크\"] )"
   ]
  },
  {
   "cell_type": "code",
   "execution_count": 54,
   "id": "0ba54dca-475c-4e25-941a-74220aefb38a",
   "metadata": {},
   "outputs": [],
   "source": [
    "### revised by hk\n",
    "### 작업 : 저장파일명 뒤에 시간정보 삽입"
   ]
  },
  {
   "cell_type": "code",
   "execution_count": 55,
   "id": "87d56b57-0456-4f6d-be1b-48fd22d68782",
   "metadata": {},
   "outputs": [],
   "source": [
    "# 현재날짜 가져오기\n",
    "currentDate = datetime.datetime.now()\n",
    "# 현재날짜정보를 formatting 하기\n",
    "timeTag = currentDate.strftime(\"%Y_%m_%d_%H_%M_%S_%Z\")"
   ]
  },
  {
   "cell_type": "code",
   "execution_count": 56,
   "id": "286e60c9-9f7f-4b22-9018-2070a7869a45",
   "metadata": {},
   "outputs": [],
   "source": [
    "quizInfoDf.to_csv(\"../dataset/quizinfo{}.csv\".format(timeTag), encoding=\"ms949\")"
   ]
  },
  {
   "cell_type": "code",
   "execution_count": null,
   "id": "0fddb3f9-98dc-4051-b0ab-c5ba4e973dad",
   "metadata": {},
   "outputs": [],
   "source": []
  }
 ],
 "metadata": {
  "kernelspec": {
   "display_name": "Python 3 (ipykernel)",
   "language": "python",
   "name": "python3"
  },
  "language_info": {
   "codemirror_mode": {
    "name": "ipython",
    "version": 3
   },
   "file_extension": ".py",
   "mimetype": "text/x-python",
   "name": "python",
   "nbconvert_exporter": "python",
   "pygments_lexer": "ipython3",
   "version": "3.9.7"
  }
 },
 "nbformat": 4,
 "nbformat_minor": 5
}
