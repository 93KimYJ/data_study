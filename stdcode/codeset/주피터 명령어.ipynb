{
 "cells": [
  {
   "cell_type": "code",
   "execution_count": 3,
   "id": "89de4dc2-7f63-4753-9212-54cf7d50bb8e",
   "metadata": {},
   "outputs": [
    {
     "data": {
      "text/plain": [
       "'C:\\\\Users\\\\PC10'"
      ]
     },
     "execution_count": 3,
     "metadata": {},
     "output_type": "execute_result"
    }
   ],
   "source": [
    "pwd # print working directory 내 작업위치 확인"
   ]
  },
  {
   "cell_type": "code",
   "execution_count": 5,
   "id": "44339a15-a84e-4d2d-ab7d-b09e32a21b22",
   "metadata": {
    "collapsed": true,
    "jupyter": {
     "outputs_hidden": true
    },
    "tags": []
   },
   "outputs": [
    {
     "data": {
      "text/plain": [
       "' 컨트롤 + 엔터 : 실행 후 정지\\n    쉬프트 + 엔터 : 실행 후 이동 '"
      ]
     },
     "execution_count": 5,
     "metadata": {},
     "output_type": "execute_result"
    }
   ],
   "source": [
    "''' 컨트롤 + 엔터 : 실행 후 정지\n",
    "    쉬프트 + 엔터 : 실행 후 이동 '''"
   ]
  },
  {
   "cell_type": "code",
   "execution_count": null,
   "id": "fdf4c9c3-a74b-4acc-a65c-813735b34534",
   "metadata": {
    "collapsed": true,
    "jupyter": {
     "outputs_hidden": true
    },
    "tags": []
   },
   "outputs": [
    {
     "data": {
      "text/plain": [
       "' 셀을 클릭하고\\n    a : 위에 셀 추가\\n    b : 아래 셀 추가 '"
      ]
     },
     "execution_count": 8,
     "metadata": {},
     "output_type": "execute_result"
    }
   ],
   "source": [
    "''' 셀을 클릭하고\n",
    "    a : 위에 셀 추가\n",
    "    b : 아래 셀 추가\n",
    "    dd : 셀 삭제\n",
    "    shift + m(merge) : 셀 합체\n",
    "    ctrl+shift+'-' : 공백 한칸 만들고 셀 분리 '''"
   ]
  },
  {
   "cell_type": "markdown",
   "id": "5ddef609-045d-414f-a550-e47595f33d66",
   "metadata": {},
   "source": [
    "# 1. 산술연산"
   ]
  },
  {
   "cell_type": "markdown",
   "id": "c4e5e44d-680b-449f-8629-8866ed6277bc",
   "metadata": {},
   "source": [
    "## 1-1. 더하기 연산"
   ]
  },
  {
   "cell_type": "code",
   "execution_count": null,
   "id": "eaf64720-472f-4c28-965f-553511b05c83",
   "metadata": {},
   "outputs": [],
   "source": [
    "a = 3\n",
    "b = 5"
   ]
  },
  {
   "cell_type": "code",
   "execution_count": null,
   "id": "c427efdd-e50f-4c57-9fd0-db1892e427bc",
   "metadata": {},
   "outputs": [],
   "source": [
    "a + b"
   ]
  },
  {
   "cell_type": "code",
   "execution_count": null,
   "id": "18d43740-b467-4cdf-947c-6d318be446c0",
   "metadata": {},
   "outputs": [],
   "source": []
  }
 ],
 "metadata": {
  "kernelspec": {
   "display_name": "Python 3 (ipykernel)",
   "language": "python",
   "name": "python3"
  },
  "language_info": {
   "codemirror_mode": {
    "name": "ipython",
    "version": 3
   },
   "file_extension": ".py",
   "mimetype": "text/x-python",
   "name": "python",
   "nbconvert_exporter": "python",
   "pygments_lexer": "ipython3",
   "version": "3.9.7"
  }
 },
 "nbformat": 4,
 "nbformat_minor": 5
}
