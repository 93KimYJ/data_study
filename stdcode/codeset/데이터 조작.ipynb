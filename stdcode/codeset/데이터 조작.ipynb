{
 "cells": [
  {
   "cell_type": "code",
   "execution_count": 17,
   "id": "22d2d4da-3f5e-4c86-b481-fdea7664c6f6",
   "metadata": {},
   "outputs": [],
   "source": [
    "import pandas as pd"
   ]
  },
  {
   "cell_type": "code",
   "execution_count": 18,
   "id": "06c6ed4e-a36a-4892-aa3e-f8174d3e82f7",
   "metadata": {},
   "outputs": [],
   "source": [
    "selloutData = pd.read_csv(\"../dataset/kopo_channel_seasonality_new.csv\")"
   ]
  },
  {
   "cell_type": "code",
   "execution_count": 19,
   "id": "c752ada8-77f6-46dc-914d-1259dbffd67d",
   "metadata": {},
   "outputs": [],
   "source": [
    "allcolumns = list(selloutData.columns)"
   ]
  },
  {
   "cell_type": "code",
   "execution_count": 20,
   "id": "c4b9d89d-bda8-467c-97ba-a0e10cf662e7",
   "metadata": {},
   "outputs": [],
   "source": [
    "i = 0"
   ]
  },
  {
   "cell_type": "code",
   "execution_count": 21,
   "id": "c4347045-5796-4591-94ec-42b813c4cf95",
   "metadata": {},
   "outputs": [],
   "source": [
    "for i in range(0,len(allcolumns)):\n",
    "    selloutData[ allcolumns[i] ] = selloutData[ allcolumns[i] ].astype(str)"
   ]
  },
  {
   "cell_type": "code",
   "execution_count": 22,
   "id": "bea8451c-35c0-44b9-b0c6-d8d8de31fcc9",
   "metadata": {},
   "outputs": [],
   "source": [
    "selloutData.QTY = selloutData.QTY.astype(float)"
   ]
  },
  {
   "cell_type": "code",
   "execution_count": null,
   "id": "3394d63b-6a76-46df-9831-e2b292399f11",
   "metadata": {},
   "outputs": [],
   "source": []
  },
  {
   "cell_type": "code",
   "execution_count": 40,
   "id": "10a98947-e1dd-4f02-9ede-0d1ade56cc0f",
   "metadata": {},
   "outputs": [
    {
     "data": {
      "text/html": [
       "<div>\n",
       "<style scoped>\n",
       "    .dataframe tbody tr th:only-of-type {\n",
       "        vertical-align: middle;\n",
       "    }\n",
       "\n",
       "    .dataframe tbody tr th {\n",
       "        vertical-align: top;\n",
       "    }\n",
       "\n",
       "    .dataframe thead th {\n",
       "        text-align: right;\n",
       "    }\n",
       "</style>\n",
       "<table border=\"1\" class=\"dataframe\">\n",
       "  <thead>\n",
       "    <tr style=\"text-align: right;\">\n",
       "      <th></th>\n",
       "      <th>STATENAME</th>\n",
       "      <th>GENDER</th>\n",
       "    </tr>\n",
       "  </thead>\n",
       "  <tbody>\n",
       "    <tr>\n",
       "      <th>0</th>\n",
       "      <td>State2</td>\n",
       "      <td>Male</td>\n",
       "    </tr>\n",
       "    <tr>\n",
       "      <th>1</th>\n",
       "      <td>State2</td>\n",
       "      <td>Male</td>\n",
       "    </tr>\n",
       "    <tr>\n",
       "      <th>2</th>\n",
       "      <td>State2</td>\n",
       "      <td>Female</td>\n",
       "    </tr>\n",
       "    <tr>\n",
       "      <th>3</th>\n",
       "      <td>State2</td>\n",
       "      <td>Male</td>\n",
       "    </tr>\n",
       "    <tr>\n",
       "      <th>4</th>\n",
       "      <td>State2</td>\n",
       "      <td>Male</td>\n",
       "    </tr>\n",
       "  </tbody>\n",
       "</table>\n",
       "</div>"
      ],
      "text/plain": [
       "  STATENAME  GENDER\n",
       "0    State2    Male\n",
       "1    State2    Male\n",
       "2    State2  Female\n",
       "3    State2    Male\n",
       "4    State2    Male"
      ]
     },
     "execution_count": 40,
     "metadata": {},
     "output_type": "execute_result"
    }
   ],
   "source": [
    "kopo_customerData = pd.read_csv(\"../dataset/kopo_customerdata.csv\")\n",
    "\n",
    "DataColumns = list(kopo_customerData.columns)\n",
    "\n",
    "targetColumns = ['STATENAME', 'GENDER']\n",
    "\n",
    "kopo_customerData.loc[:,targetColumns][0:5]"
   ]
  },
  {
   "cell_type": "code",
   "execution_count": 47,
   "id": "bacc6aa4-b160-4c52-8e96-6a8611037607",
   "metadata": {},
   "outputs": [],
   "source": [
    "import numpy as np"
   ]
  },
  {
   "cell_type": "markdown",
   "id": "cae14078-873e-4746-95bb-a19700ab8a9a",
   "metadata": {},
   "source": [
    "## 데이터 정렬하기"
   ]
  },
  {
   "cell_type": "code",
   "execution_count": 165,
   "id": "23950d0a-1c2b-4556-a0fd-553809003bbf",
   "metadata": {},
   "outputs": [],
   "source": [
    "customerData = pd.read_csv(\"../dataset/customerdata.csv\")"
   ]
  },
  {
   "cell_type": "code",
   "execution_count": 171,
   "id": "579d9f73-9a44-4c63-9c9d-eb4326d67591",
   "metadata": {},
   "outputs": [],
   "source": [
    "#sortKey = [\"AVGPRICE\"]\n",
    "sortKey = [\"EMI\", \"AVGPRICE\"]"
   ]
  },
  {
   "cell_type": "code",
   "execution_count": 173,
   "id": "ae5cc1d3-4bff-427c-a492-edbad5a8f351",
   "metadata": {
    "tags": []
   },
   "outputs": [],
   "source": [
    "#customerData.sort_values(by=sortKey, ascending=False) # by : 작은거부터 정렬 , ascending=False : 큰거부터 정렬\n",
    "sortedData = customerData.sort_values(by=sortKey, ascending=[True,False])"
   ]
  },
  {
   "cell_type": "code",
   "execution_count": 174,
   "id": "2b715063-716b-49be-a6d8-18f5429e5012",
   "metadata": {},
   "outputs": [
    {
     "data": {
      "text/html": [
       "<div>\n",
       "<style scoped>\n",
       "    .dataframe tbody tr th:only-of-type {\n",
       "        vertical-align: middle;\n",
       "    }\n",
       "\n",
       "    .dataframe tbody tr th {\n",
       "        vertical-align: top;\n",
       "    }\n",
       "\n",
       "    .dataframe thead th {\n",
       "        text-align: right;\n",
       "    }\n",
       "</style>\n",
       "<table border=\"1\" class=\"dataframe\">\n",
       "  <thead>\n",
       "    <tr style=\"text-align: right;\">\n",
       "      <th></th>\n",
       "      <th>CUSTID</th>\n",
       "      <th>AVGPRICE</th>\n",
       "      <th>EMI</th>\n",
       "      <th>DEVICECOUNT</th>\n",
       "      <th>PRODUCTAGE</th>\n",
       "      <th>CUSTTYPE</th>\n",
       "    </tr>\n",
       "  </thead>\n",
       "  <tbody>\n",
       "    <tr>\n",
       "      <th>56</th>\n",
       "      <td>K10712</td>\n",
       "      <td>3419.462596</td>\n",
       "      <td>1</td>\n",
       "      <td>4</td>\n",
       "      <td>2.825790</td>\n",
       "      <td>Sleeping-dog</td>\n",
       "    </tr>\n",
       "    <tr>\n",
       "      <th>72</th>\n",
       "      <td>O13037</td>\n",
       "      <td>3398.216334</td>\n",
       "      <td>1</td>\n",
       "      <td>4</td>\n",
       "      <td>2.994395</td>\n",
       "      <td>Sleeping-dog</td>\n",
       "    </tr>\n",
       "    <tr>\n",
       "      <th>46</th>\n",
       "      <td>I14835</td>\n",
       "      <td>3374.091339</td>\n",
       "      <td>1</td>\n",
       "      <td>4</td>\n",
       "      <td>2.749678</td>\n",
       "      <td>Sleeping-dog</td>\n",
       "    </tr>\n",
       "    <tr>\n",
       "      <th>65</th>\n",
       "      <td>M16452</td>\n",
       "      <td>3353.537290</td>\n",
       "      <td>1</td>\n",
       "      <td>4</td>\n",
       "      <td>1.940357</td>\n",
       "      <td>Sleeping-dog</td>\n",
       "    </tr>\n",
       "    <tr>\n",
       "      <th>11</th>\n",
       "      <td>C18622</td>\n",
       "      <td>3246.000000</td>\n",
       "      <td>1</td>\n",
       "      <td>5</td>\n",
       "      <td>1.891624</td>\n",
       "      <td>Big-Screen-lover</td>\n",
       "    </tr>\n",
       "    <tr>\n",
       "      <th>...</th>\n",
       "      <td>...</td>\n",
       "      <td>...</td>\n",
       "      <td>...</td>\n",
       "      <td>...</td>\n",
       "      <td>...</td>\n",
       "      <td>...</td>\n",
       "    </tr>\n",
       "    <tr>\n",
       "      <th>27</th>\n",
       "      <td>F17131</td>\n",
       "      <td>3179.708359</td>\n",
       "      <td>3</td>\n",
       "      <td>6</td>\n",
       "      <td>1.100000</td>\n",
       "      <td>Early-bird</td>\n",
       "    </tr>\n",
       "    <tr>\n",
       "      <th>53</th>\n",
       "      <td>J16445</td>\n",
       "      <td>3041.848186</td>\n",
       "      <td>3</td>\n",
       "      <td>6</td>\n",
       "      <td>0.800000</td>\n",
       "      <td>Early-bird</td>\n",
       "    </tr>\n",
       "    <tr>\n",
       "      <th>45</th>\n",
       "      <td>I12899</td>\n",
       "      <td>3018.895637</td>\n",
       "      <td>3</td>\n",
       "      <td>6</td>\n",
       "      <td>0.900000</td>\n",
       "      <td>Early-bird</td>\n",
       "    </tr>\n",
       "    <tr>\n",
       "      <th>135</th>\n",
       "      <td>X13390</td>\n",
       "      <td>2947.543982</td>\n",
       "      <td>3</td>\n",
       "      <td>6</td>\n",
       "      <td>1.100000</td>\n",
       "      <td>Early-bird</td>\n",
       "    </tr>\n",
       "    <tr>\n",
       "      <th>52</th>\n",
       "      <td>J15083</td>\n",
       "      <td>2811.265932</td>\n",
       "      <td>3</td>\n",
       "      <td>6</td>\n",
       "      <td>0.900000</td>\n",
       "      <td>Early-bird</td>\n",
       "    </tr>\n",
       "  </tbody>\n",
       "</table>\n",
       "<p>150 rows × 6 columns</p>\n",
       "</div>"
      ],
      "text/plain": [
       "     CUSTID     AVGPRICE  EMI  DEVICECOUNT  PRODUCTAGE          CUSTTYPE\n",
       "56   K10712  3419.462596    1            4    2.825790      Sleeping-dog\n",
       "72   O13037  3398.216334    1            4    2.994395      Sleeping-dog\n",
       "46   I14835  3374.091339    1            4    2.749678      Sleeping-dog\n",
       "65   M16452  3353.537290    1            4    1.940357      Sleeping-dog\n",
       "11   C18622  3246.000000    1            5    1.891624  Big-Screen-lover\n",
       "..      ...          ...  ...          ...         ...               ...\n",
       "27   F17131  3179.708359    3            6    1.100000        Early-bird\n",
       "53   J16445  3041.848186    3            6    0.800000        Early-bird\n",
       "45   I12899  3018.895637    3            6    0.900000        Early-bird\n",
       "135  X13390  2947.543982    3            6    1.100000        Early-bird\n",
       "52   J15083  2811.265932    3            6    0.900000        Early-bird\n",
       "\n",
       "[150 rows x 6 columns]"
      ]
     },
     "execution_count": 174,
     "metadata": {},
     "output_type": "execute_result"
    }
   ],
   "source": [
    "sortedData"
   ]
  },
  {
   "cell_type": "code",
   "execution_count": null,
   "id": "5b801881-b4c1-464e-a95d-2d149048a443",
   "metadata": {},
   "outputs": [],
   "source": []
  },
  {
   "cell_type": "markdown",
   "id": "86e50c50-4fdc-4972-b167-150dfacce68a",
   "metadata": {},
   "source": [
    "## np.where 활용 데이터 조작"
   ]
  },
  {
   "cell_type": "markdown",
   "id": "21bc8345-6e34-4bdc-a0fa-4f0283cbda52",
   "metadata": {},
   "source": [
    "### productage < 1로 변경하고 그 외에는 기존값을 쓴다"
   ]
  },
  {
   "cell_type": "code",
   "execution_count": 51,
   "id": "e5c150f7-e7a0-49cd-832c-7869b0badba3",
   "metadata": {},
   "outputs": [],
   "source": [
    "customerData[\"PRODUCTAGE_NEW\"] = \\\n",
    "    np.where(customerData.PRODUCTAGE < 1, 1, customerData.PRODUCTAGE)"
   ]
  },
  {
   "cell_type": "code",
   "execution_count": 61,
   "id": "ce448082-5bb7-44ce-b66b-7d21e6718b48",
   "metadata": {},
   "outputs": [
    {
     "data": {
      "text/html": [
       "<div>\n",
       "<style scoped>\n",
       "    .dataframe tbody tr th:only-of-type {\n",
       "        vertical-align: middle;\n",
       "    }\n",
       "\n",
       "    .dataframe tbody tr th {\n",
       "        vertical-align: top;\n",
       "    }\n",
       "\n",
       "    .dataframe thead th {\n",
       "        text-align: right;\n",
       "    }\n",
       "</style>\n",
       "<table border=\"1\" class=\"dataframe\">\n",
       "  <thead>\n",
       "    <tr style=\"text-align: right;\">\n",
       "      <th></th>\n",
       "      <th>CUSTID</th>\n",
       "      <th>AVGPRICE</th>\n",
       "      <th>EMI</th>\n",
       "      <th>DEVICECOUNT</th>\n",
       "      <th>PRODUCTAGE</th>\n",
       "      <th>CUSTTYPE</th>\n",
       "      <th>PRODUCTAGE_NEW</th>\n",
       "    </tr>\n",
       "  </thead>\n",
       "  <tbody>\n",
       "  </tbody>\n",
       "</table>\n",
       "</div>"
      ],
      "text/plain": [
       "Empty DataFrame\n",
       "Columns: [CUSTID, AVGPRICE, EMI, DEVICECOUNT, PRODUCTAGE, CUSTTYPE, PRODUCTAGE_NEW]\n",
       "Index: []"
      ]
     },
     "execution_count": 61,
     "metadata": {},
     "output_type": "execute_result"
    }
   ],
   "source": [
    "customerData.loc[ (customerData.PRODUCTAGE >= 1) &\n",
    "                  (customerData.PRODUCTAGE_NEW != customerData.PRODUCTAGE) ]"
   ]
  },
  {
   "cell_type": "markdown",
   "id": "68139c35-106d-4389-8fe3-f14f6557bf52",
   "metadata": {},
   "source": [
    "#### productage 1보다 작은 경우 1\n",
    "#### productage 1보다 크면서 2보다 작은경우 2\n",
    "#### productage 이외는 3"
   ]
  },
  {
   "cell_type": "code",
   "execution_count": 66,
   "id": "1aaf682b-ca7b-49c3-863a-80ce536167e1",
   "metadata": {},
   "outputs": [
    {
     "data": {
      "text/plain": [
       "array([2, 3, 3, 1, 3, 3, 1, 3, 3, 3, 3, 2, 3, 1, 3, 3, 3, 3, 3, 3, 3, 2,\n",
       "       2, 1, 1, 3, 2, 2, 3, 3, 1, 3, 3, 2, 3, 3, 2, 1, 1, 2, 1, 2, 3, 3,\n",
       "       1, 1, 3, 3, 1, 3, 3, 1, 1, 1, 3, 1, 3, 2, 3, 3, 2, 2, 1, 3, 2, 2,\n",
       "       3, 2, 2, 2, 3, 1, 3, 3, 2, 3, 3, 1, 1, 2, 1, 3, 1, 3, 1, 3, 3, 1,\n",
       "       3, 3, 3, 3, 3, 3, 2, 1, 2, 2, 2, 2, 3, 3, 3, 3, 2, 1, 2, 3, 3, 3,\n",
       "       3, 3, 3, 2, 3, 3, 3, 1, 3, 3, 3, 3, 3, 3, 3, 1, 1, 2, 3, 3, 2, 2,\n",
       "       1, 1, 2, 2, 3, 3, 3, 3, 3, 3, 1, 1, 3, 3, 1, 3, 2, 2])"
      ]
     },
     "execution_count": 66,
     "metadata": {},
     "output_type": "execute_result"
    }
   ],
   "source": [
    "np.where(customerData.PRODUCTAGE < 1 , 1,\n",
    "         np.where(customerData.PRODUCTAGE < 2, 2, 3))"
   ]
  },
  {
   "cell_type": "code",
   "execution_count": null,
   "id": "232fb7cd-555f-49fd-a330-89ff22fa0fe5",
   "metadata": {},
   "outputs": [],
   "source": []
  },
  {
   "cell_type": "markdown",
   "id": "7323e1ad-6ccf-4df2-a9b4-588a052c04a6",
   "metadata": {},
   "source": [
    "## loc 활용 데이터 조작"
   ]
  },
  {
   "cell_type": "code",
   "execution_count": 75,
   "id": "dc3db730-ab77-421f-a4a3-a17b3ab6fe60",
   "metadata": {},
   "outputs": [],
   "source": [
    "customerData.loc[ customerData.PRODUCTAGE <= 1, \"NEW_AGE\"] = 1\n",
    "customerData.loc[ (customerData.PRODUCTAGE > 1) &\n",
    "                  (customerData.PRODUCTAGE <= 2), \"NEW_AGE\"] = 2\n",
    "customerData.loc[ customerData.PRODUCTAGE > 2, \"NEW_AGE\"] = 3"
   ]
  },
  {
   "cell_type": "code",
   "execution_count": null,
   "id": "b078da04-8a30-45a1-a0a2-9948d2dfe3cf",
   "metadata": {},
   "outputs": [],
   "source": []
  },
  {
   "cell_type": "code",
   "execution_count": 74,
   "id": "c4603791-30c8-4ff9-986b-30ad0b740695",
   "metadata": {},
   "outputs": [
    {
     "data": {
      "text/html": [
       "<div>\n",
       "<style scoped>\n",
       "    .dataframe tbody tr th:only-of-type {\n",
       "        vertical-align: middle;\n",
       "    }\n",
       "\n",
       "    .dataframe tbody tr th {\n",
       "        vertical-align: top;\n",
       "    }\n",
       "\n",
       "    .dataframe thead th {\n",
       "        text-align: right;\n",
       "    }\n",
       "</style>\n",
       "<table border=\"1\" class=\"dataframe\">\n",
       "  <thead>\n",
       "    <tr style=\"text-align: right;\">\n",
       "      <th></th>\n",
       "      <th>CUSTID</th>\n",
       "      <th>AVGPRICE</th>\n",
       "      <th>EMI</th>\n",
       "      <th>DEVICECOUNT</th>\n",
       "      <th>PRODUCTAGE</th>\n",
       "      <th>CUSTTYPE</th>\n",
       "      <th>PRODUCTAGE_NEW</th>\n",
       "      <th>NEW_AGE</th>\n",
       "    </tr>\n",
       "  </thead>\n",
       "  <tbody>\n",
       "  </tbody>\n",
       "</table>\n",
       "</div>"
      ],
      "text/plain": [
       "Empty DataFrame\n",
       "Columns: [CUSTID, AVGPRICE, EMI, DEVICECOUNT, PRODUCTAGE, CUSTTYPE, PRODUCTAGE_NEW, NEW_AGE]\n",
       "Index: []"
      ]
     },
     "execution_count": 74,
     "metadata": {},
     "output_type": "execute_result"
    }
   ],
   "source": [
    "customerData.loc[ (customerData.PRODUCTAGE >= 1) &\n",
    "                  (customerData.PRODUCTAGE == customerData.NEW_AGE) ]"
   ]
  },
  {
   "cell_type": "code",
   "execution_count": null,
   "id": "deaa1c70-a105-4366-b818-e0edeac4d782",
   "metadata": {},
   "outputs": [],
   "source": []
  },
  {
   "cell_type": "markdown",
   "id": "83696eab-215d-4a7e-aa3f-0d5e9e03e929",
   "metadata": {},
   "source": [
    "##  함수적용 해서 데이터를 조작"
   ]
  },
  {
   "cell_type": "code",
   "execution_count": 84,
   "id": "9898f101-58bd-4bcc-bea2-21e2a4c1dec4",
   "metadata": {},
   "outputs": [],
   "source": [
    "def valuechange(inValue):\n",
    "    #testValue = inValue\n",
    "    #inValue = 1.5\n",
    "    outValue = 0\n",
    "\n",
    "    if inValue < 1:\n",
    "        outValue = 1\n",
    "    elif inValue < 2:\n",
    "        outValue = 2\n",
    "    else:\n",
    "        outValue = 3\n",
    "    return outValue"
   ]
  },
  {
   "cell_type": "code",
   "execution_count": 102,
   "id": "e2c38079-53f7-4020-8e94-9195ef5832ac",
   "metadata": {},
   "outputs": [],
   "source": [
    "customerData[\"HK_NEW2\"] = customerData.PRODUCTAGE.apply(valuechange)"
   ]
  },
  {
   "cell_type": "code",
   "execution_count": 103,
   "id": "a2d60f9e-f61a-4b08-8776-b1a3c03f9027",
   "metadata": {},
   "outputs": [],
   "source": [
    "customerData[\"NEW222\"] = customerData.CUSTID+\"_\"+customerData.CUSTTYPE"
   ]
  },
  {
   "cell_type": "code",
   "execution_count": 106,
   "id": "e3db65ff-a0a0-41b2-86de-a4a7dcbf7b57",
   "metadata": {},
   "outputs": [],
   "source": [
    "customerData[\"NEW223\"] = customerData.CUSTID.str[0:3]+\"_\"+customerData.EMI.astype(str)"
   ]
  },
  {
   "cell_type": "code",
   "execution_count": 107,
   "id": "910ef8fc-8021-4e88-9797-000ab8b67849",
   "metadata": {
    "tags": []
   },
   "outputs": [
    {
     "data": {
      "text/html": [
       "<div>\n",
       "<style scoped>\n",
       "    .dataframe tbody tr th:only-of-type {\n",
       "        vertical-align: middle;\n",
       "    }\n",
       "\n",
       "    .dataframe tbody tr th {\n",
       "        vertical-align: top;\n",
       "    }\n",
       "\n",
       "    .dataframe thead th {\n",
       "        text-align: right;\n",
       "    }\n",
       "</style>\n",
       "<table border=\"1\" class=\"dataframe\">\n",
       "  <thead>\n",
       "    <tr style=\"text-align: right;\">\n",
       "      <th></th>\n",
       "      <th>CUSTID</th>\n",
       "      <th>AVGPRICE</th>\n",
       "      <th>EMI</th>\n",
       "      <th>DEVICECOUNT</th>\n",
       "      <th>PRODUCTAGE</th>\n",
       "      <th>CUSTTYPE</th>\n",
       "      <th>PRODUCTAGE_NEW</th>\n",
       "      <th>NEW_AGE</th>\n",
       "      <th>HK_NEW2</th>\n",
       "      <th>NEW222</th>\n",
       "      <th>NEW223</th>\n",
       "    </tr>\n",
       "  </thead>\n",
       "  <tbody>\n",
       "    <tr>\n",
       "      <th>0</th>\n",
       "      <td>A13566</td>\n",
       "      <td>4273.900000</td>\n",
       "      <td>3</td>\n",
       "      <td>6</td>\n",
       "      <td>1.679181</td>\n",
       "      <td>Big-Screen-lover</td>\n",
       "      <td>1.679181</td>\n",
       "      <td>2.0</td>\n",
       "      <td>2</td>\n",
       "      <td>A13566_Big-Screen-lover</td>\n",
       "      <td>A13_3</td>\n",
       "    </tr>\n",
       "    <tr>\n",
       "      <th>1</th>\n",
       "      <td>A14219</td>\n",
       "      <td>3642.441950</td>\n",
       "      <td>2</td>\n",
       "      <td>4</td>\n",
       "      <td>2.682023</td>\n",
       "      <td>Sleeping-dog</td>\n",
       "      <td>2.682023</td>\n",
       "      <td>3.0</td>\n",
       "      <td>3</td>\n",
       "      <td>A14219_Sleeping-dog</td>\n",
       "      <td>A14_2</td>\n",
       "    </tr>\n",
       "    <tr>\n",
       "      <th>2</th>\n",
       "      <td>A15312</td>\n",
       "      <td>3653.884565</td>\n",
       "      <td>2</td>\n",
       "      <td>5</td>\n",
       "      <td>3.208202</td>\n",
       "      <td>Sleeping-dog</td>\n",
       "      <td>3.208202</td>\n",
       "      <td>3.0</td>\n",
       "      <td>3</td>\n",
       "      <td>A15312_Sleeping-dog</td>\n",
       "      <td>A15_2</td>\n",
       "    </tr>\n",
       "    <tr>\n",
       "      <th>3</th>\n",
       "      <td>A16605</td>\n",
       "      <td>3713.211107</td>\n",
       "      <td>2</td>\n",
       "      <td>6</td>\n",
       "      <td>0.900000</td>\n",
       "      <td>Early-bird</td>\n",
       "      <td>1.000000</td>\n",
       "      <td>1.0</td>\n",
       "      <td>1</td>\n",
       "      <td>A16605_Early-bird</td>\n",
       "      <td>A16_2</td>\n",
       "    </tr>\n",
       "    <tr>\n",
       "      <th>4</th>\n",
       "      <td>B10634</td>\n",
       "      <td>3391.074215</td>\n",
       "      <td>2</td>\n",
       "      <td>4</td>\n",
       "      <td>2.453656</td>\n",
       "      <td>Sleeping-dog</td>\n",
       "      <td>2.453656</td>\n",
       "      <td>3.0</td>\n",
       "      <td>3</td>\n",
       "      <td>B10634_Sleeping-dog</td>\n",
       "      <td>B10_2</td>\n",
       "    </tr>\n",
       "    <tr>\n",
       "      <th>...</th>\n",
       "      <td>...</td>\n",
       "      <td>...</td>\n",
       "      <td>...</td>\n",
       "      <td>...</td>\n",
       "      <td>...</td>\n",
       "      <td>...</td>\n",
       "      <td>...</td>\n",
       "      <td>...</td>\n",
       "      <td>...</td>\n",
       "      <td>...</td>\n",
       "      <td>...</td>\n",
       "    </tr>\n",
       "    <tr>\n",
       "      <th>145</th>\n",
       "      <td>Z13253</td>\n",
       "      <td>3678.800000</td>\n",
       "      <td>2</td>\n",
       "      <td>5</td>\n",
       "      <td>2.463670</td>\n",
       "      <td>Big-Screen-lover</td>\n",
       "      <td>2.463670</td>\n",
       "      <td>3.0</td>\n",
       "      <td>3</td>\n",
       "      <td>Z13253_Big-Screen-lover</td>\n",
       "      <td>Z13_2</td>\n",
       "    </tr>\n",
       "    <tr>\n",
       "      <th>146</th>\n",
       "      <td>Z13534</td>\n",
       "      <td>3662.437527</td>\n",
       "      <td>3</td>\n",
       "      <td>6</td>\n",
       "      <td>0.900000</td>\n",
       "      <td>Early-bird</td>\n",
       "      <td>1.000000</td>\n",
       "      <td>1.0</td>\n",
       "      <td>1</td>\n",
       "      <td>Z13534_Early-bird</td>\n",
       "      <td>Z13_3</td>\n",
       "    </tr>\n",
       "    <tr>\n",
       "      <th>147</th>\n",
       "      <td>Z16428</td>\n",
       "      <td>3516.500000</td>\n",
       "      <td>2</td>\n",
       "      <td>5</td>\n",
       "      <td>2.371301</td>\n",
       "      <td>Big-Screen-lover</td>\n",
       "      <td>2.371301</td>\n",
       "      <td>3.0</td>\n",
       "      <td>3</td>\n",
       "      <td>Z16428_Big-Screen-lover</td>\n",
       "      <td>Z16_2</td>\n",
       "    </tr>\n",
       "    <tr>\n",
       "      <th>148</th>\n",
       "      <td>Z16735</td>\n",
       "      <td>3300.100000</td>\n",
       "      <td>2</td>\n",
       "      <td>5</td>\n",
       "      <td>1.704942</td>\n",
       "      <td>Big-Screen-lover</td>\n",
       "      <td>1.704942</td>\n",
       "      <td>2.0</td>\n",
       "      <td>2</td>\n",
       "      <td>Z16735_Big-Screen-lover</td>\n",
       "      <td>Z16_2</td>\n",
       "    </tr>\n",
       "    <tr>\n",
       "      <th>149</th>\n",
       "      <td>Z19835</td>\n",
       "      <td>3326.526183</td>\n",
       "      <td>2</td>\n",
       "      <td>6</td>\n",
       "      <td>1.200000</td>\n",
       "      <td>Early-bird</td>\n",
       "      <td>1.200000</td>\n",
       "      <td>2.0</td>\n",
       "      <td>2</td>\n",
       "      <td>Z19835_Early-bird</td>\n",
       "      <td>Z19_2</td>\n",
       "    </tr>\n",
       "  </tbody>\n",
       "</table>\n",
       "<p>150 rows × 11 columns</p>\n",
       "</div>"
      ],
      "text/plain": [
       "     CUSTID     AVGPRICE  EMI  DEVICECOUNT  PRODUCTAGE          CUSTTYPE  \\\n",
       "0    A13566  4273.900000    3            6    1.679181  Big-Screen-lover   \n",
       "1    A14219  3642.441950    2            4    2.682023      Sleeping-dog   \n",
       "2    A15312  3653.884565    2            5    3.208202      Sleeping-dog   \n",
       "3    A16605  3713.211107    2            6    0.900000        Early-bird   \n",
       "4    B10634  3391.074215    2            4    2.453656      Sleeping-dog   \n",
       "..      ...          ...  ...          ...         ...               ...   \n",
       "145  Z13253  3678.800000    2            5    2.463670  Big-Screen-lover   \n",
       "146  Z13534  3662.437527    3            6    0.900000        Early-bird   \n",
       "147  Z16428  3516.500000    2            5    2.371301  Big-Screen-lover   \n",
       "148  Z16735  3300.100000    2            5    1.704942  Big-Screen-lover   \n",
       "149  Z19835  3326.526183    2            6    1.200000        Early-bird   \n",
       "\n",
       "     PRODUCTAGE_NEW  NEW_AGE  HK_NEW2                   NEW222 NEW223  \n",
       "0          1.679181      2.0        2  A13566_Big-Screen-lover  A13_3  \n",
       "1          2.682023      3.0        3      A14219_Sleeping-dog  A14_2  \n",
       "2          3.208202      3.0        3      A15312_Sleeping-dog  A15_2  \n",
       "3          1.000000      1.0        1        A16605_Early-bird  A16_2  \n",
       "4          2.453656      3.0        3      B10634_Sleeping-dog  B10_2  \n",
       "..              ...      ...      ...                      ...    ...  \n",
       "145        2.463670      3.0        3  Z13253_Big-Screen-lover  Z13_2  \n",
       "146        1.000000      1.0        1        Z13534_Early-bird  Z13_3  \n",
       "147        2.371301      3.0        3  Z16428_Big-Screen-lover  Z16_2  \n",
       "148        1.704942      2.0        2  Z16735_Big-Screen-lover  Z16_2  \n",
       "149        1.200000      2.0        2        Z19835_Early-bird  Z19_2  \n",
       "\n",
       "[150 rows x 11 columns]"
      ]
     },
     "execution_count": 107,
     "metadata": {},
     "output_type": "execute_result"
    }
   ],
   "source": [
    "customerData"
   ]
  },
  {
   "cell_type": "code",
   "execution_count": null,
   "id": "77e52ee9-75fc-4353-84ca-30302c07d4e9",
   "metadata": {},
   "outputs": [],
   "source": []
  },
  {
   "cell_type": "code",
   "execution_count": 156,
   "id": "aab85747-f049-43f2-8d96-cdf6f4427abd",
   "metadata": {},
   "outputs": [],
   "source": [
    "selloutData.loc[selloutData.QTY < 0] = 0"
   ]
  },
  {
   "cell_type": "code",
   "execution_count": 157,
   "id": "a9995956-86d1-45b8-a5a6-2322031d2a03",
   "metadata": {},
   "outputs": [],
   "source": [
    "selloutData[\"YEAR\"] = selloutData.YEARWEEK.str[0:4]\n",
    "selloutData[\"WEEK\"] = selloutData.YEARWEEK.str[4:6]"
   ]
  },
  {
   "cell_type": "code",
   "execution_count": 158,
   "id": "394e0a09-304e-4b19-bc68-d2e741ba5558",
   "metadata": {},
   "outputs": [],
   "source": [
    "exceptWeek = \"53\""
   ]
  },
  {
   "cell_type": "code",
   "execution_count": 159,
   "id": "6ef21b4f-ba62-4ed5-8e6a-5c7d91b54e84",
   "metadata": {},
   "outputs": [],
   "source": [
    "refinedData = \\\n",
    "    selloutData.loc[ selloutData.WEEK != exceptWeek ]"
   ]
  },
  {
   "cell_type": "code",
   "execution_count": 160,
   "id": "812ce3a7-1299-49ce-9bcd-2f52cb1f39af",
   "metadata": {},
   "outputs": [
    {
     "data": {
      "text/plain": [
       "(124658, 6)"
      ]
     },
     "execution_count": 160,
     "metadata": {},
     "output_type": "execute_result"
    }
   ],
   "source": [
    "refinedData.shape"
   ]
  },
  {
   "cell_type": "code",
   "execution_count": null,
   "id": "91f787f4-a7b1-4f5c-9ed2-ec2dc83158c2",
   "metadata": {},
   "outputs": [],
   "source": []
  }
 ],
 "metadata": {
  "kernelspec": {
   "display_name": "Python 3 (ipykernel)",
   "language": "python",
   "name": "python3"
  },
  "language_info": {
   "codemirror_mode": {
    "name": "ipython",
    "version": 3
   },
   "file_extension": ".py",
   "mimetype": "text/x-python",
   "name": "python",
   "nbconvert_exporter": "python",
   "pygments_lexer": "ipython3",
   "version": "3.9.7"
  }
 },
 "nbformat": 4,
 "nbformat_minor": 5
}
