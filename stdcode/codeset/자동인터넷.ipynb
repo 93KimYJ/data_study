{
 "cells": [
  {
   "cell_type": "code",
   "execution_count": 63,
   "id": "8c3c6b30-14d5-419e-84ab-6d565fb63912",
   "metadata": {
    "tags": []
   },
   "outputs": [],
   "source": [
    "from selenium import webdriver\n",
    "from selenium.webdriver.common.by import By\n",
    "from selenium.webdriver.common.keys import Keys"
   ]
  },
  {
   "cell_type": "code",
   "execution_count": 64,
   "id": "76137a83-1574-403e-ad0e-ad611d7b7c10",
   "metadata": {
    "tags": []
   },
   "outputs": [],
   "source": [
    "driver_loc = \"../extern/chromedriver/chromedriver.exe\""
   ]
  },
  {
   "cell_type": "code",
   "execution_count": 65,
   "id": "ab1996c8-dd88-44dd-888f-56d17f94b338",
   "metadata": {
    "tags": []
   },
   "outputs": [],
   "source": [
    "options = webdriver.ChromeOptions()"
   ]
  },
  {
   "cell_type": "code",
   "execution_count": 66,
   "id": "ee68e748-e31c-4ee5-9bfa-0dada0ce33af",
   "metadata": {
    "tags": []
   },
   "outputs": [],
   "source": [
    "options.add_argument(\"window-size=1920x1080\")"
   ]
  },
  {
   "cell_type": "code",
   "execution_count": 67,
   "id": "3f7e65c4-682b-46a6-8f9b-226fc00b18e5",
   "metadata": {
    "tags": []
   },
   "outputs": [
    {
     "name": "stderr",
     "output_type": "stream",
     "text": [
      "C:\\Users\\PC10\\AppData\\Local\\Temp/ipykernel_5648/3445652119.py:1: DeprecationWarning: executable_path has been deprecated, please pass in a Service object\n",
      "  driver = webdriver.Chrome(driver_loc, options=options)\n"
     ]
    }
   ],
   "source": [
    "driver = webdriver.Chrome(driver_loc, options=options)"
   ]
  },
  {
   "cell_type": "code",
   "execution_count": 68,
   "id": "221ec544-448d-4576-9700-6ffcfbcd7ee0",
   "metadata": {
    "tags": []
   },
   "outputs": [],
   "source": [
    "targetUrl = \"https://www.sparkkorea.com/\""
   ]
  },
  {
   "cell_type": "code",
   "execution_count": 69,
   "id": "e594e16f-5a37-41c8-b0fb-9ee92e535439",
   "metadata": {},
   "outputs": [],
   "source": [
    "driver.implicitly_wait(3)"
   ]
  },
  {
   "cell_type": "code",
   "execution_count": 70,
   "id": "937974f6-64fb-4a01-b9a2-223c6eadbccf",
   "metadata": {},
   "outputs": [],
   "source": [
    "driver.get(targetUrl)"
   ]
  },
  {
   "cell_type": "code",
   "execution_count": 73,
   "id": "b36dcbba-1d4f-41d7-8593-73c70ffc558a",
   "metadata": {},
   "outputs": [],
   "source": [
    "quizBtn = '//*[@id=\"menu-item-382\"]/a'"
   ]
  },
  {
   "cell_type": "code",
   "execution_count": 74,
   "id": "d3cd570d-f158-4a47-9617-19eec98639cc",
   "metadata": {},
   "outputs": [],
   "source": [
    "driver.find_element(By.XPATH, quizBtn).click()"
   ]
  },
  {
   "cell_type": "markdown",
   "id": "1589e4c9-bff0-4bb6-8ae8-72e0b539661e",
   "metadata": {},
   "source": [
    "## 구글 서치바 테스트"
   ]
  },
  {
   "cell_type": "code",
   "execution_count": 89,
   "id": "7431bfab-c38c-42c9-affd-52c914195844",
   "metadata": {
    "tags": []
   },
   "outputs": [],
   "source": [
    "googleUrl = \"https://www.google.com/\""
   ]
  },
  {
   "cell_type": "code",
   "execution_count": 90,
   "id": "08acb7bc-cda5-400e-a424-a022d067a84b",
   "metadata": {},
   "outputs": [],
   "source": [
    "driver.get(googleUrl)"
   ]
  },
  {
   "cell_type": "code",
   "execution_count": 91,
   "id": "cb3434b7-3560-496f-bc44-904425e3854a",
   "metadata": {},
   "outputs": [],
   "source": [
    "googleSearchBar = \"/html/body/div[1]/div[3]/form/div[1]/div[1]/div[1]/div/div[2]/input\""
   ]
  },
  {
   "cell_type": "code",
   "execution_count": 92,
   "id": "6e6ac506-64d0-4ecc-a20d-3d4217358e45",
   "metadata": {},
   "outputs": [],
   "source": [
    "keywords = \"selenium\""
   ]
  },
  {
   "cell_type": "code",
   "execution_count": 93,
   "id": "4c3f293c-1797-4e2e-b44d-3854999da228",
   "metadata": {},
   "outputs": [],
   "source": [
    "driver.find_element(By.XPATH, googleSearchBar).send_keys(keywords)"
   ]
  },
  {
   "cell_type": "code",
   "execution_count": 94,
   "id": "ac2b39e8-09ea-47b0-a562-9c2b42d65291",
   "metadata": {},
   "outputs": [],
   "source": [
    "driver.find_element(By.XPATH, googleSearchBar).send_keys(Keys.ENTER)"
   ]
  },
  {
   "cell_type": "code",
   "execution_count": null,
   "id": "b6350d8c-e30b-4041-9095-c4eb1604695b",
   "metadata": {},
   "outputs": [],
   "source": []
  },
  {
   "cell_type": "code",
   "execution_count": null,
   "id": "fe9df128-54bf-4331-a459-82bab68940c9",
   "metadata": {},
   "outputs": [],
   "source": []
  },
  {
   "cell_type": "code",
   "execution_count": 47,
   "id": "a560d4b8-dfe4-44ab-ae07-3817ad229409",
   "metadata": {},
   "outputs": [
    {
     "name": "stdout",
     "output_type": "stream",
     "text": [
      "https://sparkkorea.com/\n"
     ]
    }
   ],
   "source": [
    "print(driver.current_url)"
   ]
  },
  {
   "cell_type": "code",
   "execution_count": 52,
   "id": "192cbaf8-98a6-4be9-84f9-d71bb817a48a",
   "metadata": {},
   "outputs": [],
   "source": [
    "# driver가 접속한 페이지 소스 가져오기\n",
    "html = driver.page_source"
   ]
  },
  {
   "cell_type": "code",
   "execution_count": 53,
   "id": "70971b46-39a0-49b8-adc4-b2850a2581a9",
   "metadata": {},
   "outputs": [],
   "source": [
    "import bs4"
   ]
  },
  {
   "cell_type": "code",
   "execution_count": 54,
   "id": "c18ef40a-2f15-439c-94a5-79cc1e92da28",
   "metadata": {},
   "outputs": [],
   "source": [
    "bsobj = bs4.BeautifulSoup(html,\"html.parser\")"
   ]
  },
  {
   "cell_type": "code",
   "execution_count": null,
   "id": "70067729-5bb2-48d8-9a3e-82b5d05230f2",
   "metadata": {},
   "outputs": [],
   "source": []
  }
 ],
 "metadata": {
  "kernelspec": {
   "display_name": "Python 3 (ipykernel)",
   "language": "python",
   "name": "python3"
  },
  "language_info": {
   "codemirror_mode": {
    "name": "ipython",
    "version": 3
   },
   "file_extension": ".py",
   "mimetype": "text/x-python",
   "name": "python",
   "nbconvert_exporter": "python",
   "pygments_lexer": "ipython3",
   "version": "3.9.7"
  }
 },
 "nbformat": 4,
 "nbformat_minor": 5
}
