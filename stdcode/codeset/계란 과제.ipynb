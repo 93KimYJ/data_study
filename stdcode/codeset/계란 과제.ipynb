{
 "cells": [
  {
   "cell_type": "code",
   "execution_count": 9,
   "id": "324dd78e-ea64-4c58-84c4-b059a678b405",
   "metadata": {},
   "outputs": [],
   "source": [
    "import requests , bs4"
   ]
  },
  {
   "cell_type": "code",
   "execution_count": 10,
   "id": "0ad7a5d4-a11b-446f-bc8f-7afe394ad815",
   "metadata": {},
   "outputs": [],
   "source": [
    "targetUrl2=\"https://www.ssg.com/search.ssg?target=all&query=%EA%B3%84%EB%9E%80\""
   ]
  },
  {
   "cell_type": "code",
   "execution_count": 11,
   "id": "3a4c878d-0a7b-451e-9c8c-7e18cb68dc94",
   "metadata": {},
   "outputs": [],
   "source": [
    "user_agent = 'Mozilla/5.0 (Windows NT 10.0; Win64; x64) AppleWebKit/537.36 (KHTML, like Gecko) Chrome/100.0.4896.75 Safari/537.36'\n",
    "resp = requests.get(url=targetUrl2,\n",
    "                    headers = {'User-Agent':user_agent} )"
   ]
  },
  {
   "cell_type": "code",
   "execution_count": 13,
   "id": "3f3bc772-54c7-413d-8e0d-a5ec15c15b67",
   "metadata": {},
   "outputs": [],
   "source": [
    "html = resp.text"
   ]
  },
  {
   "cell_type": "code",
   "execution_count": 15,
   "id": "9c518eba-db4c-49eb-a8fa-badd9a5ec381",
   "metadata": {
    "tags": []
   },
   "outputs": [],
   "source": [
    "bsobj = bs4.BeautifulSoup(html, \"html.parser\")"
   ]
  },
  {
   "cell_type": "markdown",
   "id": "c14e8453-2378-41b5-b9ac-0addfd03062a",
   "metadata": {},
   "source": [
    "## 테스트"
   ]
  },
  {
   "cell_type": "code",
   "execution_count": 115,
   "id": "826a4bcb-2913-4840-b8b6-aa7ed8ba7560",
   "metadata": {},
   "outputs": [],
   "source": [
    "itemListAll = bsobj.find(name = \"div\" , attrs = {\"class\" : \"cunit_lst_v\"})"
   ]
  },
  {
   "cell_type": "code",
   "execution_count": 116,
   "id": "ee23f272-6910-48c7-a7df-41cdb5dea27e",
   "metadata": {},
   "outputs": [],
   "source": [
    "itemAll = itemListAll.findAll(name=\"li\")"
   ]
  },
  {
   "cell_type": "code",
   "execution_count": 117,
   "id": "badffc89-38e0-4e88-bd93-0333686d7306",
   "metadata": {},
   "outputs": [],
   "source": [
    "priceInfoList = []\n",
    "productNameInfoList = []"
   ]
  },
  {
   "cell_type": "code",
   "execution_count": 118,
   "id": "c257ca76-3eda-49aa-b5ac-999dd3231f88",
   "metadata": {},
   "outputs": [],
   "source": [
    "for i in range(0, len(itemAll)):\n",
    "    # 데이터 수집\n",
    "    productNameInfo = itemAll[i].find(name=\"a\").find(name=\"img\").attrs[\"alt\"]\n",
    "    priceInfo = itemAll[i].find(name=\"em\", attrs={\"class\":\"ssg_price\"}).text\n",
    "    # 리스트에 저장\n",
    "    productNameInfoList.append(productNameInfo)\n",
    "    priceInfoList.append(priceInfo)"
   ]
  },
  {
   "cell_type": "code",
   "execution_count": 123,
   "id": "7546aa2c-ab65-439a-9e09-5dcd9dff11d3",
   "metadata": {},
   "outputs": [],
   "source": [
    "finalData = pd.DataFrame( zip(priceInfoList,productNameInfoList) , columns=[\"가격\",\"제품명\"])"
   ]
  },
  {
   "cell_type": "code",
   "execution_count": 125,
   "id": "a608a66e-64cf-4153-b322-ccdb1688cc1e",
   "metadata": {},
   "outputs": [],
   "source": [
    "finalData.to_csv(\"./dataset/final.csv\", index=False, encoding=\"ms949\")"
   ]
  },
  {
   "cell_type": "code",
   "execution_count": null,
   "id": "62cb6a6e-dd5e-4208-bc5c-79bb82f68899",
   "metadata": {},
   "outputs": [],
   "source": []
  }
 ],
 "metadata": {
  "kernelspec": {
   "display_name": "Python 3 (ipykernel)",
   "language": "python",
   "name": "python3"
  },
  "language_info": {
   "codemirror_mode": {
    "name": "ipython",
    "version": 3
   },
   "file_extension": ".py",
   "mimetype": "text/x-python",
   "name": "python",
   "nbconvert_exporter": "python",
   "pygments_lexer": "ipython3",
   "version": "3.9.7"
  }
 },
 "nbformat": 4,
 "nbformat_minor": 5
}
